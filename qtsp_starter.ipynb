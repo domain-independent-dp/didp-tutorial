{
 "cells": [
  {
   "cell_type": "markdown",
   "id": "b454c693-99d3-449e-87fd-1fec3f1a0a65",
   "metadata": {},
   "source": [
    "# Quadratic Traveling Salesperson Problem (QTSP)\n",
    "\n",
    "Given $n$ customers $N = \\{ 0, ..., n-1 \\}$ and a nonnegative value $c_{ijk}$ for $i, j, k \\in N$ with $i \\neq j$, $j \\neq k$, and $i \\neq k$, find a tour visiting all customers (or a permutation) $\\sigma = \\langle \\sigma(0), ..., \\sigma(n-1) \\rangle$ while minimizing $\\sum_{i=0}^{n-1} c_{\\sigma(i-1)\\sigma(i)\\sigma(i+1)}$, where we assume that $\\sigma(-1) = \\sigma(n-1)$ and $\\sigma(n) = \\sigma(0)$. "
   ]
  },
  {
   "cell_type": "markdown",
   "id": "f988b11a-15f3-42c6-a178-07e0e1f50991",
   "metadata": {},
   "source": [
    "## Install DIDPPy"
   ]
  },
  {
   "cell_type": "code",
   "execution_count": null,
   "id": "b027e00a-fef9-4a1e-b7ec-c8022cc254c7",
   "metadata": {},
   "outputs": [],
   "source": [
    "# Skip this if you already installed it\n",
    "!pip install didppy"
   ]
  },
  {
   "cell_type": "markdown",
   "id": "84d0be1e-9d2c-484c-8b01-66f40588f2c0",
   "metadata": {},
   "source": [
    "## Download an Instance Data"
   ]
  },
  {
   "cell_type": "code",
   "execution_count": null,
   "id": "08d62ae8-fb43-46ef-8cf6-8c3cda4f1a53",
   "metadata": {},
   "outputs": [],
   "source": [
    "# Skip this if you already downloaded it\n",
    "!wget https://raw.githubusercontent.com/domain-independent-dp/didp-tutorial/main/qtsp_instance.sqtsp"
   ]
  },
  {
   "cell_type": "markdown",
   "id": "6be7e33b-0279-4de7-bc2e-c01c82bf9683",
   "metadata": {},
   "source": [
    "## Read the Instance Data"
   ]
  },
  {
   "cell_type": "code",
   "execution_count": null,
   "id": "c2c93ae6-6619-4192-8175-8aa8c0728192",
   "metadata": {},
   "outputs": [],
   "source": [
    "# Function to read an instance from a file\n",
    "def read_qtsp(filename, n_decimal_places=2):\n",
    "    with open(filename) as f:\n",
    "        data = f.read().split()\n",
    "\n",
    "    n = int(data[0])\n",
    "    distance = [[[0 for _ in range(n)] for _ in range(n)] for _ in range(n)]\n",
    "    data_index = 1\n",
    "\n",
    "    for i in range(n):\n",
    "        for j in range(n):            \n",
    "            for k in range(n):\n",
    "                if i != j and j != k and k != i:\n",
    "                    value = float(data[data_index])\n",
    "                    # Round a floating point number to the specified number of decimal places\n",
    "                    # and convert to an integer\n",
    "                    distance[i][j][k] = int(round(value, n_decimal_places) * (10**n_decimal_places))\n",
    "                    data_index += 1\n",
    "                    \n",
    "    return n, distance"
   ]
  },
  {
   "cell_type": "code",
   "execution_count": null,
   "id": "3a363f75-7f91-4032-8e08-7d21c673a3b7",
   "metadata": {},
   "outputs": [],
   "source": [
    "# Read an instance from a file\n",
    "n_decimal_places = 2\n",
    "# n is the number of customers, and distance[i][j][k] corresponds to c_{ijk}.\n",
    "n, distance = read_qtsp(\"qtsp_instance.sqtsp\", n_decimal_places=n_decimal_places)"
   ]
  },
  {
   "cell_type": "markdown",
   "id": "1c691c19-9188-42af-a6e3-b2cbced5c058",
   "metadata": {},
   "source": [
    "## Modeling \n",
    "\n",
    "### Import and Set-up Model"
   ]
  },
  {
   "cell_type": "code",
   "execution_count": null,
   "id": "8127b9dd-94ae-4d82-9e25-12dd47162026",
   "metadata": {},
   "outputs": [],
   "source": [
    "import didppy as dp\n",
    "\n",
    "model = dp.Model(maximize=False, float_cost=False)"
   ]
  },
  {
   "cell_type": "markdown",
   "id": "9d1b5a50-288a-4859-bca0-eafc1f5d9aad",
   "metadata": {},
   "source": [
    "### State Variables"
   ]
  },
  {
   "cell_type": "code",
   "execution_count": null,
   "id": "314c88b1-78d9-44ca-8caa-46dd4b79189b",
   "metadata": {},
   "outputs": [],
   "source": [
    "# YOUR CODE HERE"
   ]
  },
  {
   "cell_type": "markdown",
   "id": "87f5080a-806b-4da6-9a71-996589546c1d",
   "metadata": {},
   "source": [
    "### Transitions"
   ]
  },
  {
   "cell_type": "code",
   "execution_count": null,
   "id": "7a46e0d6-5235-420c-9a74-3de9b0e13754",
   "metadata": {},
   "outputs": [],
   "source": [
    "# YOUR CODE HERE"
   ]
  },
  {
   "cell_type": "markdown",
   "id": "aa9ce13f-0761-4e7b-b71c-9a6484545389",
   "metadata": {},
   "source": [
    "### Base Cases"
   ]
  },
  {
   "cell_type": "code",
   "execution_count": null,
   "id": "29d20a8f-0aef-4b7f-9ffe-dca84c8af016",
   "metadata": {},
   "outputs": [],
   "source": [
    "# YOUR CODE HERE"
   ]
  },
  {
   "cell_type": "markdown",
   "id": "e5bd7b42-b7cc-49f1-8db3-621b7077a141",
   "metadata": {},
   "source": [
    "### Dual Bounds"
   ]
  },
  {
   "cell_type": "code",
   "execution_count": null,
   "id": "0610cedc-6aca-4ac9-a320-d940681c3e4b",
   "metadata": {},
   "outputs": [],
   "source": [
    "# YOUR CODE HERE\n",
    "# EXTRA CREDIT!"
   ]
  },
  {
   "cell_type": "markdown",
   "id": "0a35d475-c6de-4234-a073-b7ab92a1c3a6",
   "metadata": {},
   "source": [
    "### Solving"
   ]
  },
  {
   "cell_type": "code",
   "execution_count": null,
   "id": "543b06f7-e00e-4629-9a93-db9a756c6965",
   "metadata": {
    "scrolled": true
   },
   "outputs": [],
   "source": [
    "solver = dp.CABS(model, time_limit=10, quiet=False)\n",
    "solution = solver.search()"
   ]
  },
  {
   "cell_type": "code",
   "execution_count": null,
   "id": "84d2983a-5dc2-4c11-af1f-86e67f812ab8",
   "metadata": {},
   "outputs": [],
   "source": [
    "print(\"Solution:\")\n",
    "\n",
    "for t in solution.transitions:\n",
    "    print(t.name)\n",
    "\n",
    "print(\"\")\n",
    "cost = solution.cost / (10**n_decimal_places)\n",
    "print(\"Cost: {:.2f}\".format(cost))\n",
    "print(\"Elapsed time: {:.4f} seconds\".format(solution.time))\n",
    "\n",
    "if solution.is_optimal:\n",
    "    print(\"The optimality is proved\")\n",
    "else:\n",
    "    best_bound = solution.best_bound / (10**n_decimal_places)\n",
    "    print(\"Best bound: {:.2f}\".format(best_bound))"
   ]
  }
 ],
 "metadata": {
  "kernelspec": {
   "display_name": "Python 3 (ipykernel)",
   "language": "python",
   "name": "python3"
  },
  "language_info": {
   "codemirror_mode": {
    "name": "ipython",
    "version": 3
   },
   "file_extension": ".py",
   "mimetype": "text/x-python",
   "name": "python",
   "nbconvert_exporter": "python",
   "pygments_lexer": "ipython3",
   "version": "3.10.12"
  }
 },
 "nbformat": 4,
 "nbformat_minor": 5
}
