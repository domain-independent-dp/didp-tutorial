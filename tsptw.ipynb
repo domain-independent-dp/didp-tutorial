{
 "cells": [
  {
   "cell_type": "markdown",
   "id": "8b30f8e2",
   "metadata": {},
   "source": [
    "# TSPTW\n",
    "\n",
    "In the traveling salesperson problem with time windows (TSPTW), we are given a set of locations $N = \\{ 0, ..., n-1 \\}$.\n",
    "The salesperson starts from the depot $0$, visit each customer $i \\in \\{ 1, ..., n-1 \\}$ exactly once, and returns to the depot.\n",
    "The traveling time from $i$ to $j$ is $c_{ij}$.\n",
    "Each customer $i$ must be visited within time window $[a_i, b_i]$, and the salesperson must wait until $a_i$ if arriving at $i$ before $a_i$.\n",
    "The objective is to minimize the total travel time (not including the waiting time).\n",
    "\n",
    "## DP Formulation\n",
    "\n",
    "Let $U \\subseteq N$ be the set of unvisited customers, $i \\in N$ be the current location of the salesperson, and $t$ be the current time.\n",
    "Let $V(U, i, t)$ be the optimal cost to visit customers $U$ and return to the depot starting from $i$ with time $t$.\n",
    "When customer $j \\in U$ is visited next, the problem is reduced to visiting customers $U \\setminus \\{ j \\}$ from location $j$ at time $\\max \\{ t + c_{ij}, a_j \\}$.\n",
    "When all customers are visited, the salesperson must return to the depot from location $i$. We have the following DP formulation.\n",
    "\n",
    "$$\n",
    "\\begin{align}\n",
    "    \\text{compute } & V(N \\setminus \\{ 0 \\}, 0, 0) \\\\ \n",
    "    & V(U, i, t) = \\begin{cases}\n",
    "         \\min\\limits_{j \\in U : t + c_{ij} \\leq b_j} c_{ij} + V(U \\setminus \\{ j \\}, j, \\max \\{ t + c_{ij}, a_j \\})  & \\text{if } U \\neq \\emptyset \\\\\n",
    "         c_{i0} & \\text{if } U = \\emptyset. \\\\\n",
    "    \\end{cases}\n",
    "\\end{align}\n",
    "$$\n",
    "\n",
    "The earliest arrival time at customer $j$ is $t + c_{ij}$ (assuming the triangle inequality). If $\\exists j \\in U, t + c_{ij} > b_j$, the state does not lead to a solution.\n",
    "\n",
    "$$\n",
    "\\begin{align}\n",
    "    & V(U, i, t) = \\infty & \\text{if } \\exists j \\in U, t + c_{ij} > b_j.\n",
    "\\end{align}\n",
    "$$\n",
    "\n",
    "When two states $(U, i, t)$ and $(U, i, t')$ have the same set of unvisited customers $U$ and the same location $i$ and $t \\leq t'$, $(U, i, t)$ leads to a better solution. Therefore,\n",
    "\n",
    "$$\n",
    "\\begin{align}\n",
    "    & V(U, i, t) \\leq V(U, i, t') & \\text{if } t \\leq t'.\n",
    "\\end{align}\n",
    "$$\n",
    "\n",
    "The shortest possible travel time to visit customer $j$ is $c^{\\text{in}}_j = \\min_{k \\in N \\setminus \\{ j \\}} c_{kj}$.\n",
    "Because we need to visit all customers in $U$, the total travel time is at least $\\sum_{j \\in U} c^{\\text{in}}_j$. Furthermore, we need to visit the depot.\n",
    "Therefore,\n",
    "\n",
    "$$\n",
    "    V(U, i, t) \\geq \\sum_{j \\in U \\cup \\{ 0 \\}} c^{\\text{in}}_j.\n",
    "$$\n",
    "\n",
    "Similarly, we need to depart from each customer in $U$ and the current location $i$. Let $c^{\\text{out}}_j = \\min_{k \\in N \\setminus \\{ j \\}} c_{jk}$. Then,\n",
    "\n",
    "$$\n",
    "    V(U, i, t) \\geq \\sum_{j \\in U \\cup \\{ i \\}} c^{\\text{out}}_j.\n",
    "$$"
   ]
  },
  {
   "cell_type": "markdown",
   "id": "0f197b27",
   "metadata": {},
   "source": [
    "## Install DIDPPy"
   ]
  },
  {
   "cell_type": "code",
   "execution_count": 1,
   "id": "ced536c2",
   "metadata": {},
   "outputs": [
    {
     "name": "stdout",
     "output_type": "stream",
     "text": [
      "Defaulting to user installation because normal site-packages is not writeable\n",
      "Requirement already satisfied: didppy in /home/kuro/.local/lib/python3.10/site-packages (0.8.0)\n"
     ]
    }
   ],
   "source": [
    "# Skip this if you already installed it\n",
    "!pip install didppy"
   ]
  },
  {
   "cell_type": "markdown",
   "id": "d175dc1f-c290-4107-a094-e57bdcf3d835",
   "metadata": {},
   "source": [
    "## Download an Instance Data"
   ]
  },
  {
   "cell_type": "code",
   "execution_count": 2,
   "id": "e7222e0d-0316-43b1-9fba-d34222b0ca20",
   "metadata": {},
   "outputs": [
    {
     "name": "stdout",
     "output_type": "stream",
     "text": [
      "--2024-08-14 14:09:21--  https://raw.githubusercontent.com/domain-independent-dp/didp-tutorial/main/tsptw_instance.txt\n",
      "Resolving raw.githubusercontent.com (raw.githubusercontent.com)... 185.199.109.133, 185.199.110.133, 185.199.111.133, ...\n",
      "Connecting to raw.githubusercontent.com (raw.githubusercontent.com)|185.199.109.133|:443... connected.\n",
      "HTTP request sent, awaiting response... 200 OK\n",
      "Length: 55 [text/plain]\n",
      "Saving to: ‘tsptw_instance.txt’\n",
      "\n",
      "tsptw_instance.txt  100%[===================>]      55  --.-KB/s    in 0s      \n",
      "\n",
      "2024-08-14 14:09:21 (2.23 MB/s) - ‘tsptw_instance.txt’ saved [55/55]\n",
      "\n"
     ]
    }
   ],
   "source": [
    "# Skip this if you already downloaded it\n",
    "!wget https://raw.githubusercontent.com/domain-independent-dp/didp-tutorial/main/tsptw_instance.txt"
   ]
  },
  {
   "cell_type": "markdown",
   "id": "abdeb9e9-776d-4619-aa85-d2d4baecdd0b",
   "metadata": {},
   "source": [
    "## Read the Instance data"
   ]
  },
  {
   "cell_type": "code",
   "execution_count": 3,
   "id": "7b2fb1f8-e5a6-4c2d-80b2-3c76b77c79ae",
   "metadata": {},
   "outputs": [],
   "source": [
    "def read_tsptw(filename):\n",
    "    with open(filename) as f:\n",
    "        data = f.read().split()\n",
    "\n",
    "    n = int(data[0])\n",
    "    data_index = 1\n",
    "    distance = [[0 for _ in range(n)] for _ in range(n)]\n",
    "    \n",
    "    for i in range(n):\n",
    "        for j in range(n):\n",
    "            distance[i][j] = int(data[data_index])\n",
    "            data_index += 1\n",
    "            \n",
    "    a = []\n",
    "    b = []\n",
    "    \n",
    "    for i in range(n):\n",
    "        a.append(int(data[data_index]))\n",
    "        b.append(int(data[data_index + 1]))\n",
    "        data_index += 2\n",
    "\n",
    "    return n, distance, a, b"
   ]
  },
  {
   "cell_type": "code",
   "execution_count": 4,
   "id": "47b02c3f-3046-4c4e-86f3-bf67ed0fa132",
   "metadata": {},
   "outputs": [],
   "source": [
    "# n is the number of customers, distance[i][j] is the travel time from i to j,\n",
    "# and [a[i], b[i]] is the time window for customer i\n",
    "n, distance, a, b = read_tsptw(\"tsptw_instance.txt\")"
   ]
  },
  {
   "cell_type": "code",
   "execution_count": 5,
   "id": "c25490b2-d67a-4b85-985b-687724453e56",
   "metadata": {},
   "outputs": [
    {
     "name": "stdout",
     "output_type": "stream",
     "text": [
      "4\n",
      "[[0, 3, 4, 5], [3, 0, 5, 4], [4, 5, 0, 3], [5, 4, 3, 0]]\n",
      "[0, 5, 0, 8]\n",
      "[100, 16, 10, 14]\n"
     ]
    }
   ],
   "source": [
    "print(n)\n",
    "print(distance)\n",
    "print(a)\n",
    "print(b)"
   ]
  },
  {
   "cell_type": "markdown",
   "id": "f2b0fcb3",
   "metadata": {},
   "source": [
    "## Modeling\n",
    "\n",
    "### Import and Set-up Model"
   ]
  },
  {
   "cell_type": "code",
   "execution_count": 6,
   "id": "b8cf52ec-606c-4fb3-a8b5-fa066aa47358",
   "metadata": {},
   "outputs": [],
   "source": [
    "import didppy as dp\n",
    "\n",
    "model = dp.Model(maximize=False, float_cost=False)"
   ]
  },
  {
   "cell_type": "markdown",
   "id": "49a73827-0152-4648-bb58-c29cfabac702",
   "metadata": {},
   "source": [
    "### State Variables\n",
    "\n",
    "$$\n",
    "\\begin{align*}\n",
    "    \\text{compute } & V(N \\setminus \\{ 0 \\}, 0, 0)\n",
    "\\end{align*}\n",
    "$$\n",
    "\n",
    "$$\n",
    "\\begin{align*}\n",
    "    & V(U, i, t) \\leq V(U, i, t') & \\text{if } t \\leq t'\n",
    "\\end{align*}\n",
    "$$"
   ]
  },
  {
   "cell_type": "code",
   "execution_count": 7,
   "id": "417ed142-49fc-4aa4-bb73-250a5fb0fd8c",
   "metadata": {},
   "outputs": [],
   "source": [
    "customer = model.add_object_type(number=n)\n",
    "u = model.add_set_var(object_type=customer, target=list(range(1, n)))\n",
    "i = model.add_element_var(object_type=customer, target=0)\n",
    "t = model.add_int_resource_var(target=0, less_is_better=True)"
   ]
  },
  {
   "cell_type": "markdown",
   "id": "c20b9eba-3f66-400f-9bc2-1fbd79cbaeb9",
   "metadata": {},
   "source": [
    "### Transitions\n",
    "\n",
    "$$\n",
    "\\begin{align*}\n",
    "    & V(U, i, j) = \\min\\limits_{j \\in U : t + c_{ij} \\leq b_j} c_{ij} + V(U \\setminus \\{ j \\}, j, \\max \\{ t + c_{ij}, a_j \\})  & \\text{if } U \\neq \\emptyset\n",
    "\\end{align*}\n",
    "$$"
   ]
  },
  {
   "cell_type": "code",
   "execution_count": 8,
   "id": "e2e3b222",
   "metadata": {},
   "outputs": [],
   "source": [
    "c = model.add_int_table(distance)\n",
    "\n",
    "for j in range(1, n):\n",
    "    visit = dp.Transition(\n",
    "        name= \"visit {}\".format(j),\n",
    "        cost=c[i,j] + dp.IntExpr.state_cost(),\n",
    "        effects=[\n",
    "            (u, u.remove(j)),\n",
    "            (i, j),\n",
    "            (t, dp.max(t + c[i,j], a[j])),\n",
    "        ],\n",
    "        preconditions=[u.contains(j), t + c[i,j] <= b[j]],\n",
    "    )\n",
    "    model.add_transition(visit)"
   ]
  },
  {
   "cell_type": "markdown",
   "id": "e40a1319-a005-449a-86c5-37ed1c04bfdd",
   "metadata": {},
   "source": [
    "### Base Case\n",
    "\n",
    "$$\n",
    "\\begin{align*}\n",
    "    & V(U, i, j) = c_{i0} & \\text{if } U = \\emptyset\n",
    "\\end{align*}\n",
    "$$"
   ]
  },
  {
   "cell_type": "code",
   "execution_count": 9,
   "id": "5d89327d-8aef-427c-aa78-aa56b9c040d3",
   "metadata": {},
   "outputs": [],
   "source": [
    "model.add_base_case([u.is_empty()], cost=c[i,0])"
   ]
  },
  {
   "cell_type": "markdown",
   "id": "3210471d-f7f7-4081-88a7-b02dbe6230d6",
   "metadata": {},
   "source": [
    "### State Constraints\n",
    "\n",
    "$$\n",
    "\\begin{align*}\n",
    "    & V(U, i, t) = \\infty & \\text{if } \\exists j \\in U, t + c_{ij} > b_j\n",
    "\\end{align*}\n",
    "$$"
   ]
  },
  {
   "cell_type": "code",
   "execution_count": 10,
   "id": "bed5dc0f-c46c-4597-bc42-7c866fc5eccc",
   "metadata": {},
   "outputs": [],
   "source": [
    "for j in range(1, n):\n",
    "    model.add_state_constr(\n",
    "        ~u.contains(j) | (t + c[i,j] <= b[j])\n",
    "    )"
   ]
  },
  {
   "cell_type": "markdown",
   "id": "a58d6151-a6fb-4cbf-b505-146fd0872682",
   "metadata": {},
   "source": [
    "### Dual Bounds\n",
    "\n",
    "$$\n",
    "\\begin{align*}\n",
    "    & V(U, i, t) \\geq \\sum_{j \\in U \\cup \\{ 0 \\}} c^{\\text{in}}_j \\\\\n",
    "    & V(U, i, t) \\geq \\sum_{j \\in U \\cup \\{ i \\}} c^{\\text{out}}_j\n",
    "\\end{align*}\n",
    "$$"
   ]
  },
  {
   "cell_type": "code",
   "execution_count": 11,
   "id": "5e350857-0f2b-4110-adb1-5eb3d2f10a90",
   "metadata": {},
   "outputs": [],
   "source": [
    "cin = model.add_int_table(\n",
    "    [min(distance[k][j] for k in range(n) if k != j) for j in range(n)]\n",
    ")\n",
    "model.add_dual_bound(cin[u] + cin[0])\n",
    "\n",
    "cout = model.add_int_table(\n",
    "    [min(distance[j][k] for k in range(n) if k != j) for j in range(n)]\n",
    ")\n",
    "model.add_dual_bound(cout[u] + cout[i])"
   ]
  },
  {
   "cell_type": "markdown",
   "id": "1ed24e81-eedc-4cfe-94fa-70db8b8178b3",
   "metadata": {},
   "source": [
    "### Solving"
   ]
  },
  {
   "cell_type": "code",
   "execution_count": 12,
   "id": "c818fbe6",
   "metadata": {
    "scrolled": true
   },
   "outputs": [
    {
     "name": "stdout",
     "output_type": "stream",
     "text": [
      "Solver: CABS from DIDPPy v0.8.0\n",
      "Searched with beam size: 1, expanded: 3, elapsed time: 0.0001919\n",
      "New dual bound: 13, expanded: 3, elapsed time: 0.0002266\n",
      "New primal bound: 16, expanded: 3, elapsed time: 0.0002293\n",
      "Searched with beam size: 2, expanded: 8, elapsed time: 0.0002722\n",
      "New dual bound: 14, expanded: 8, elapsed time: 0.0002747\n",
      "New primal bound: 14, expanded: 8, elapsed time: 0.0002803\n"
     ]
    }
   ],
   "source": [
    "solver = dp.CABS(model, time_limit=10, quiet=False)\n",
    "solution = solver.search()"
   ]
  },
  {
   "cell_type": "code",
   "execution_count": 13,
   "id": "a82f5040-c736-4d46-b945-6c2572c7199e",
   "metadata": {},
   "outputs": [
    {
     "name": "stdout",
     "output_type": "stream",
     "text": [
      "Solution:\n",
      "visit 2\n",
      "visit 3\n",
      "visit 1\n",
      "\n",
      "Cost: 14\n",
      "Elapsed time: 0.0003 seconds\n",
      "The optimality is proved\n"
     ]
    }
   ],
   "source": [
    "print(\"Solution:\")\n",
    "\n",
    "for t in solution.transitions:\n",
    "    print(t.name)\n",
    "\n",
    "print(\"\")\n",
    "print(\"Cost: {}\".format(solution.cost))\n",
    "print(\"Elapsed time: {:.4f} seconds\".format(solution.time))\n",
    "\n",
    "if solution.is_optimal:\n",
    "    print(\"The optimality is proved\")\n",
    "else:\n",
    "    print(\"Best bound: {}\".format(solution.best_bound))"
   ]
  }
 ],
 "metadata": {
  "kernelspec": {
   "display_name": "Python 3 (ipykernel)",
   "language": "python",
   "name": "python3"
  },
  "language_info": {
   "codemirror_mode": {
    "name": "ipython",
    "version": 3
   },
   "file_extension": ".py",
   "mimetype": "text/x-python",
   "name": "python",
   "nbconvert_exporter": "python",
   "pygments_lexer": "ipython3",
   "version": "3.10.12"
  }
 },
 "nbformat": 4,
 "nbformat_minor": 5
}
